{
 "cells": [
  {
   "cell_type": "markdown",
   "metadata": {},
   "source": [
    "# Nivell 1\n",
    "## Exercici 1\n",
    "+ Crea una funció que donat un Array d’una dimensió, et faci un resum estadístic bàsic de les dades. Si detecta que l’array té més d’una dimensió, ha de mostrar un missatge d’error.\n",
    "\n",
    "## Exercici 2\n",
    "+ Crea una funció que et generi un quadrat NxN de nombres aleatoris entre el 0 i el 100.\n",
    "\n",
    "## Exercici 3\n",
    "+ Crea una funció que donada una taula de dues dimensions, et calculi els totals per fila i els totals per columna.\n",
    "\n",
    "## Exercici 4\n",
    "+ Implementa manualment una funció que calculi el coeficient de correlació. Informa’t-en sobre els seus usos i interpretació."
   ]
  },
  {
   "cell_type": "code",
   "execution_count": 80,
   "metadata": {},
   "outputs": [
    {
     "name": "stdout",
     "output_type": "stream",
     "text": [
      "El array recibido es: [5. 2. 0. 6. 6.]\n",
      "El resumen estadístico es:\n",
      "Media:3.8\n",
      "Mediana:5.0\n",
      "Moda:ModeResult(mode=array([6.]), count=array([2]))\n",
      "Desv.Estandard:2.4\n",
      "Max:6.0\n",
      "Min:0.0\n",
      "Rango:6.0\n"
     ]
    }
   ],
   "source": [
    "#Exercici 1\n",
    "#Crea una funció que donat un Array d’una dimensió, et faci un resum estadístic bàsic de les dades. \n",
    "#Si detecta que l’array té més d’una dimensió, ha de mostrar un missatge d’error.\n",
    "\n",
    "import numpy as np\n",
    "from numpy import random\n",
    "from scipy import stats\n",
    "\n",
    "def rellenado(arr):\n",
    "    for i in range(5):\n",
    "        arr = np.append(arr, random.randint(10))\n",
    "    return arr\n",
    "\n",
    "def resumen(arr):\n",
    "    \n",
    "    mean=np.mean(arr)\n",
    "    median=np.median(arr)\n",
    "    mode=stats.mode(arr)\n",
    "    std=np.std(arr)\n",
    "    minimum=np.min(arr)\n",
    "    maximum=np.max(arr)\n",
    "    range_arr= maximum-minimum\n",
    "    \n",
    "    \n",
    "    if arr.ndim >1:\n",
    "        print (\"Error, dimensions > 1\")\n",
    "    else:\n",
    "        print(\"El array recibido es: {}\".format(arr))\n",
    "        print(\"El resumen estadístico es:\")\n",
    "        print(\"Media:{}\\nMediana:{}\\nModa:{}\\nDesv.Estandard:{}\\nMax:{}\\nMin:{}\\nRango:{}\".\n",
    "              format(mean,median,mode,std,maximum,minimum,range_arr))\n",
    "        \n",
    "        \n",
    "        \n",
    "#creamos un array vacio\n",
    "#llamamos a la función rellenado, recibe el array vacio y lo rellena de numeros aleatorios. Posteriormente lo devuelve\n",
    "#llamamos a resumen y nos imprimirá el resumen estadístico.\n",
    "    \n",
    "a = np.empty((0))\n",
    "a= rellenado(a)\n",
    "\n",
    "resumen(a)"
   ]
  },
  {
   "cell_type": "code",
   "execution_count": 124,
   "metadata": {},
   "outputs": [
    {
     "name": "stdout",
     "output_type": "stream",
     "text": [
      "Quin tamany vols?2\n",
      "El array resultant és:\n",
      " [[49 61]\n",
      " [26 17]]\n",
      "La forma de l'array és: (2, 2)\n"
     ]
    }
   ],
   "source": [
    "#Exercici 2\n",
    "#Crea una funció que et generi un quadrat NxN de nombres aleatoris entre el 0 i el 100.\n",
    "\n",
    "def create_random_array(lado):\n",
    "    arr=np.random.randint(0, 100, size=(lado, lado))\n",
    "    return(arr)\n",
    "\n",
    "\n",
    "lado=input(\"Quin tamany vols?\")\n",
    "\n",
    "\n",
    "if lado.isnumeric() == False:\n",
    "    print(\"Error: {} no es un número\".format(lado))\n",
    "else:\n",
    "    lado=int(lado)\n",
    "    array_res=create_random_array(lado)\n",
    "    print(\"El array resultant és:\\n\",array_res)\n",
    "    print(\"La forma de l'array és: {}\".format(array_res.shape))\n",
    "\n",
    "\n",
    "\n"
   ]
  },
  {
   "cell_type": "code",
   "execution_count": 134,
   "metadata": {},
   "outputs": [
    {
     "name": "stdout",
     "output_type": "stream",
     "text": [
      "L'array és: \n",
      "[[1 4 5 5]\n",
      " [3 5 7 9]\n",
      " [2 9 1 9]]\n",
      "La suma de columnes és: [ 6 18 13 23]\n",
      "La suma de fileres és: [15 24 21]\n"
     ]
    }
   ],
   "source": [
    "#Exercici 3\n",
    "#Crea una funció que donada una taula de dues dimensions, \n",
    "#et calculi els totals per fila i els totals per columna.\n",
    "\n",
    "def totals(arr):\n",
    "    totals_cols=np.sum(arr,axis=0)\n",
    "    totals_rows=np.sum(arr,axis=1)\n",
    "    \n",
    "    print(\"L'array és: \\n{}\".format(arr))\n",
    "    print(\"La suma de columnes és: {}\".format(totals_cols))\n",
    "    print(\"La suma de fileres és: {}\".format(totals_rows))\n",
    "    \n",
    "arr=np.random.randint(0, 10, size=(3, 4))\n",
    "\n",
    "totals(arr)\n",
    "\n"
   ]
  },
  {
   "cell_type": "code",
   "execution_count": 18,
   "metadata": {},
   "outputs": [
    {
     "name": "stdout",
     "output_type": "stream",
     "text": [
      "Per la matriu random 2x10:\n",
      "[[3 3 8 8 8 7 7 8 2 3]\n",
      " [0 8 3 0 3 2 5 2 2 2]]\n",
      "El valor de correlació és:\n",
      "-0.1257456562663047\n"
     ]
    }
   ],
   "source": [
    "#Exercici 4\n",
    "#Implementa manualment una funció que calculi el coeficient de correlació. \n",
    "#Informa’t-en sobre els seus usos i interpretació.\n",
    "\n",
    "def correlacion(arr):\n",
    "    resultado=(np.corrcoef(arr))[0][1]\n",
    "    return resultado\n",
    "\n",
    "random_array=np.random.randint(0, 10, size=(2, 10))\n",
    "\n",
    "\n",
    "print(\"Per la matriu random 2x10:\\n{}\\nEl valor de correlació és:\\n{}\".format(random_array,correlacion(random_array)))\n"
   ]
  }
 ],
 "metadata": {
  "kernelspec": {
   "display_name": "Python 3",
   "language": "python",
   "name": "python3"
  },
  "language_info": {
   "codemirror_mode": {
    "name": "ipython",
    "version": 3
   },
   "file_extension": ".py",
   "mimetype": "text/x-python",
   "name": "python",
   "nbconvert_exporter": "python",
   "pygments_lexer": "ipython3",
   "version": "3.8.5"
  },
  "latex_envs": {
   "LaTeX_envs_menu_present": true,
   "autoclose": false,
   "autocomplete": true,
   "bibliofile": "biblio.bib",
   "cite_by": "apalike",
   "current_citInitial": 1,
   "eqLabelWithNumbers": true,
   "eqNumInitial": 1,
   "hotkeys": {
    "equation": "Ctrl-E",
    "itemize": "Ctrl-I"
   },
   "labels_anchors": false,
   "latex_user_defs": false,
   "report_style_numbering": false,
   "user_envs_cfg": false
  },
  "varInspector": {
   "cols": {
    "lenName": 16,
    "lenType": 16,
    "lenVar": 40
   },
   "kernels_config": {
    "python": {
     "delete_cmd_postfix": "",
     "delete_cmd_prefix": "del ",
     "library": "var_list.py",
     "varRefreshCmd": "print(var_dic_list())"
    },
    "r": {
     "delete_cmd_postfix": ") ",
     "delete_cmd_prefix": "rm(",
     "library": "var_list.r",
     "varRefreshCmd": "cat(var_dic_list()) "
    }
   },
   "types_to_exclude": [
    "module",
    "function",
    "builtin_function_or_method",
    "instance",
    "_Feature"
   ],
   "window_display": false
  }
 },
 "nbformat": 4,
 "nbformat_minor": 4
}
